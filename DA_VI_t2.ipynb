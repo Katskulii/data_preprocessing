{
 "cells": [
  {
   "cell_type": "markdown",
   "id": "2259eb28-d6c6-497d-b9c5-9923769a501c",
   "metadata": {},
   "source": [
    "## Kunta-datan käsittely\n",
    "Tee funktio ks_kunnat(url), joka tekee seuraavaa:\n",
    "\n",
    "- lataa CSV-datan DataFrameen url:sta (sarakkeiden erotinmerkki on puolipiste ja desimaalimerkki on pilkku)\n",
    "- kopioi uuteen DataFrameen kaikki sarakkeet ja rivit, joissa sarakkeessa ‘maakunta’ esiintyy merkkijono ‘Keski-Suomi’ ja sarakkeen ‘kokonaispinta-ala’ arvo on suurempi kuin 1000\n",
    "- suodata tiedot DataFramesta näyttämällä vain seuraavat sarakkeet: \"kunta\", \"maapinta-ala\", \"kokonaispinta-ala\" ja \"Väkiluku\".\n",
    "- Lajittele data siten, että kunta, jonka \"maapinta-ala\" on suurin tulee ensimmäiseksi (lajittelujärjestys laskeva)\n",
    "- tulosta lopputulokseen viisi ensimmäistä riviä.\n",
    "\n",
    "Tässä tehtävässä url=https://student.labranet.jamk.fi/~pelju/data_av/sources/kunnat.csv\n",
    "\n",
    "Huom! Rivi-indeksi on esitetty ensimmäisessä sarakkeessa."
   ]
  },
  {
   "cell_type": "code",
   "execution_count": 1,
   "id": "c764ca36-88ba-4c92-9b49-58dbe03b484b",
   "metadata": {},
   "outputs": [
    {
     "name": "stdout",
     "output_type": "stream",
     "text": [
      "          kunta  maapinta-ala  kokonaispinta-ala  Väkiluku\n",
      "65        Jämsä       1571.36            1823.90     20607\n",
      "92       Keuruu       1257.97            1430.57      9762\n",
      "234  Saarijärvi       1251.72            1422.72      9415\n",
      "298  Viitasaari       1248.55            1589.12      6264\n",
      "63    Jyväskylä       1170.97            1466.35    141305\n"
     ]
    }
   ],
   "source": [
    "url= \"https://student.labranet.jamk.fi/~pelju/data_av/sources/kunnat.csv\"\n",
    "\n",
    "def ks_kunnat(url):\n",
    "    # Kirjoita vastauksesi tähän alle:\n",
    "    import pandas as pd\n",
    "\n",
    "    df = pd.read_csv(url, sep=';', decimal=',')\n",
    "    filtered_df = df.filter(['kunta', 'maapinta-ala', 'kokonaispinta-ala', 'Väkiluku']).loc[(df['maakunta'] == 'Keski-Suomi') & (df['kokonaispinta-ala'] > 1000)]\n",
    "    sorted_df = filtered_df.sort_values('maapinta-ala', ascending=False)\n",
    "    tulos = sorted_df.head()\n",
    "    tulos\n",
    "    # ...\n",
    "    # Älä kirjoita tähän muita print komentoja ennen viimeistä print(tulos) komentoa, koska tällöin vastauksesi saatetaan tulkita väärin.\n",
    "    \n",
    "    # Lopuksi vastauksesi tulostetaan tulos muuttujassa\n",
    "    print(tulos)\n",
    "    \n",
    "ks_kunnat(url)    "
   ]
  },
  {
   "cell_type": "markdown",
   "id": "053f2011-04d2-4142-a3ea-0b77d88a265a",
   "metadata": {},
   "source": [
    "## Kunnat\n",
    "Tee funktio kunnat(url), joka tekee seuraavaa:\n",
    "\n",
    "- lataa datan DataFrameen url:sta (sarakkeiden erotinmerkki on puolipiste ja desimaalimerkki on pilkku),\n",
    "- kopioi uuteen DataFrameen kaikki sarakkeet ja rivit, joissa sarakkeessa 'maakunta' esiintyvät merkkijonot 'Uusimaa', 'Keski-Pohjanmaa' tai 'Keski-Suomi' ja sarakkeen 'Väkiluku' arvo on pienempi kuin 10 000,\n",
    "- kopioi edellisen DataFramen uuteen DataFrameen siten, että ensin on lajiteltu sarake 'maakunta' ja sitten sarake 'kunta'  (ts. järjestysavaimia on kaksi kappaletta) aakkosissa nousevaan järjestykseen,\n",
    "- Valitse tulostukseen mukaan seuraavat sarakkeet: 'maakunta', 'kunta', ja 'Väkiluku'.\n",
    "- tulostaa lopputulokseen viisi ensimmäistä riviä.\n",
    "\n",
    "Tässä tehtävässä url=https://student.labranet.jamk.fi/~pelju/data_av/sources/kunnat.csv"
   ]
  },
  {
   "cell_type": "code",
   "execution_count": 2,
   "id": "ec454fdc-8fed-4943-b7a6-483b96bb636b",
   "metadata": {},
   "outputs": [
    {
     "name": "stdout",
     "output_type": "stream",
     "text": [
      "            maakunta       kunta  Väkiluku\n",
      "22   Keski-Pohjanmaa      Halsua      1165\n",
      "75   Keski-Pohjanmaa      Kannus      5502\n",
      "84   Keski-Pohjanmaa   Kaustinen      4273\n",
      "136  Keski-Pohjanmaa  Lestijärvi       737\n",
      "191  Keski-Pohjanmaa       Perho      2825\n"
     ]
    }
   ],
   "source": [
    "url= \"https://student.labranet.jamk.fi/~pelju/data_av/sources/kunnat.csv\"\n",
    "\n",
    "def kunnat(url):\n",
    "    # Kirjoita vastauksesi tähän alle:\n",
    "    import pandas as pd\n",
    "\n",
    "    df_2 = pd.read_csv(url, sep=';', decimal=',')\n",
    "    filtered_df_2 = df_2.loc[(df_2['maakunta'].isin(['Uusimaa', 'Keski-Pohjanmaa', 'Keski-Suomi'])) & (df_2['Väkiluku'] < 10000)]\n",
    "    sorted_df_2 = filtered_df_2.sort_values(['maakunta', 'kunta'], ascending=True)\n",
    "    selected_columns_2 = sorted_df_2.loc[:, ['maakunta', 'kunta', 'Väkiluku']]\n",
    "    tulos = selected_columns_2.head()\n",
    "    tulos\n",
    "    # ...\n",
    "    # Älä kirjoita tähän muita print komentoja ennen viimeistä print(tulos) komentoa, koska tällöin vastauksesi saatetaan tulkita väärin.\n",
    "    \n",
    "    # Lopuksi vastauksesi tulostetaan tulos muuttujassa\n",
    "    print(tulos)\n",
    "    \n",
    "kunnat(url)    "
   ]
  },
  {
   "cell_type": "markdown",
   "id": "8ce69477-b1ec-4e50-839f-9691fc3f42df",
   "metadata": {},
   "source": [
    "## Kunta-datan käsittely (uudet datakentät)\n",
    "Tee funktio vesiala(url), joka tekee seuraavaa:\n",
    "\n",
    "- lataa datan DataFrameen url:sta (sarakkeiden erotinmerkki on puolipiste ja desimaalimerkki on pilkku),\n",
    "- kopioi uuteen DataFrameen kaikki sarakkeet ja rivit, jossa sarakkeessa ‘kuntamuoto’ esiintyy merkkijonot ‘Kaupunki’\n",
    "- kopioi uuteen DataFrameen kaikki sarakkeet ja rivit, jossa sarakkeessa ‘maakunta’ esiintyy merkkijonot ‘Varsinais-Suomi’ tai ‘Etelä-Savo’\n",
    "- laske uusi sarake ‘vesipinta-ala’, joka lasketaan vähentämällä 'kokonaispinta-ala' -sarakkeesta 'maapinta-ala'. Lisää uusi sarake 'vesipinta-ala' DataFrameen\n",
    "- Lajittele DataFramessa olevat kaupungit laskevaan järjestykseen (suurin ensin) uuden ‘vesipinta-ala’-sarakkeen mukaan\n",
    "- Valitse tulostukseen mukaan seuraavat sarakkeet: ‘kunta’, ‘maakunta’, ‘vesipinta-ala’, ‘kokonaispinta-ala’, ja ‘Väkiluku’.\n",
    "- tulosta lopputulokseen viisi ensimmäistä riviä.\n",
    "\n",
    "Tässä tehtävässä url=https://student.labranet.jamk.fi/~pelju/data_av/sources/kunnat.csv\n",
    "\n",
    "Huom! Rivi-indeksi on esitetty ensimmäisessä sarakkeessa."
   ]
  },
  {
   "cell_type": "code",
   "execution_count": 3,
   "id": "0c07df04-92e0-4af1-b351-3e1e484c3f58",
   "metadata": {},
   "outputs": [
    {
     "name": "stdout",
     "output_type": "stream",
     "text": [
      "            kunta         maakunta  vesipinta-ala  kokonaispinta-ala  Väkiluku\n",
      "185      Parainen  Varsinais-Suomi        4664.99            5548.11     15217\n",
      "286  Uusikaupunki  Varsinais-Suomi        1429.68            1932.43     15700\n",
      "241    Savonlinna       Etelä-Savo        1359.61            3597.70     33611\n",
      "157       Mikkeli       Etelä-Savo         681.21            3229.57     53818\n",
      "168      Naantali  Varsinais-Suomi         375.56             688.01     19245\n"
     ]
    }
   ],
   "source": [
    "url= \"https://student.labranet.jamk.fi/~pelju/data_av/sources/kunnat.csv\"\n",
    "\n",
    "def kunnat(url):\n",
    "    # Kirjoita vastauksesi tähän alle:\n",
    "    import pandas as pd\n",
    "\n",
    "    df_3 = pd.read_csv(url, sep=';', decimal=',')\n",
    "    filtered_df_3 = df_3.loc[(df_3['kuntamuoto'] == 'Kaupunki')]\n",
    "    new_df = filtered_df_3.loc[(df_3['maakunta'].isin(['Varsinais-Suomi', 'Etelä-Savo']))].copy() \n",
    "    new_df['vesipinta-ala'] = new_df['kokonaispinta-ala'] - new_df['maapinta-ala']\n",
    "    sorted_df_3 = new_df.sort_values('vesipinta-ala', ascending=False)\n",
    "    selected_columns_3 = sorted_df_3.loc[:, ['kunta', 'maakunta', 'vesipinta-ala', 'kokonaispinta-ala', 'Väkiluku']]\n",
    "    tulos = selected_columns_3.head()\n",
    "    \n",
    "    # ...\n",
    "    # Älä kirjoita tähän muita print komentoja ennen viimeistä print(tulos) komentoa, koska tällöin vastauksesi saatetaan tulkita väärin.\n",
    "    \n",
    "    # Lopuksi vastauksesi tulostetaan tulos muuttujassa\n",
    "    print(tulos)\n",
    "    \n",
    "kunnat(url)"
   ]
  },
  {
   "cell_type": "markdown",
   "id": "57f7a67e-a58e-4fa1-a890-5c4157789f55",
   "metadata": {},
   "source": [
    "## Sähkön hintatietojen luokittelua\n",
    "Tee funktio sahko(url), joka tekee seuraavaa:\n",
    "\n",
    "- Lukee url-osoitteesta datan DataFrameen, kun sarakkeiden erottimena on pilkku ja desimaalierottimena piste\n",
    "- jos sarakkeissa Year Total €/MWh ja December €/MWh niiden välillä on merkki \".\", korvataan merkki NumPy:n nan-arvolla hyödyntäen isin()-metodia,\n",
    "- tekee DataFrameen uuden sarakkeen 'hintaluokka', jossa on viisi hintaluokkaa sarakkeesta 'Year Total €/MWh' siten, että ylimmän hintaluokan hinta on 'Year Total €/MWh'-sarakkeen suurin arvo. Sen sijaan alimman hintaluokan hinta on 'Year Total €/MWh'-sarakkeen pienin arvo, mutta alinta arvoa ei tehtävässä lasketa mukaan alimman hintaluokan lukumäärään. Vinkki: Käytä tasavälisten hintaluokkien tekemiseen metodeja np.linspace() sekä pd.cut() yhdessä, sillä muuten täsmälleen mallivastauksen mukaisen vastauksen saaminen on luultavasti mahdoton tehtävä.\n",
    "- tulostaa hintaluokka-sarakkeen hintaluokkien lukumäärät value_counts()-metodilla,\n",
    "- tarkista lopuksi, että funktio järjestää tulosteen samoin kuin esimerkkivastauksessa.\n",
    "\n",
    "Tässä tehtävässä url=https://student.labranet.jamk.fi/~huoptu/datananal_s20/kerta2/harjoitukset/ehi_010_2020q2.csv"
   ]
  },
  {
   "cell_type": "code",
   "execution_count": 4,
   "id": "0ba6c450-d9e3-411d-8149-1af03ab815c9",
   "metadata": {},
   "outputs": [
    {
     "name": "stdout",
     "output_type": "stream",
     "text": [
      "(12.06, 21.256]     21\n",
      "(21.256, 30.452]    85\n",
      "(30.452, 39.648]    78\n",
      "(39.648, 48.844]    22\n",
      "(48.844, 58.04]     28\n",
      "Name: hintaluokka, dtype: int64\n"
     ]
    }
   ],
   "source": [
    "url= \"https://student.labranet.jamk.fi/~huoptu/datananal_s20/kerta2/harjoitukset/ehi_010_2020q2.csv\"\n",
    "\n",
    "def sahko(url):\n",
    "    # Kirjoita vastauksesi tähän:\n",
    "    import pandas as pd\n",
    "    import numpy as np\n",
    "\n",
    "    df_4 = pd.read_csv(url, sep=',', decimal='.')\n",
    "\n",
    "    start_col = 'Year Total €/MWh'\n",
    "    end_col = 'December €/MWh'\n",
    "    cols = df_4.loc[:, start_col:end_col].columns\n",
    "    dots = df_4[cols].isin([\".\"])\n",
    "    df_4[cols] = df_4[cols].mask(dots, np.nan)\n",
    "\n",
    "    mins = df_4['Year Total €/MWh'].astype(float).min()\n",
    "    maxs = df_4['Year Total €/MWh'].astype(float).max()\n",
    "    steps = np.linspace(mins, maxs, 6)\n",
    "    df_4['hintaluokka'] = pd.cut(df_4['Year Total €/MWh'].astype(float),steps)\n",
    "    tulos = df_4['hintaluokka'].value_counts().sort_index()\n",
    "\n",
    "    # Vastauksesi tulostetaan tulos muuttujasta. Älä käytä muita print toimintoja kuin tässä alla.\n",
    "    print(tulos)\n",
    "    \n",
    "sahko(url)"
   ]
  },
  {
   "cell_type": "markdown",
   "id": "20946037-03a2-4100-9250-5d335972fc35",
   "metadata": {},
   "source": [
    "## Sähkön hintatietojen luokittelua (2)\n",
    "Tee funktio suomisahko(url), joka tekee seuraavaa:\n",
    "\n",
    "- Lukee url-osoitteesta datan DataFrameen, kun sarakkeiden erottimena on pilkku ja desimaalierottimena piste\n",
    "- jos sarakkeissa Year Total €/MWh ja December €/MWh niiden välillä on merkki \".\", korvataan merkki NumPy:n nan-arvolla hyödyntäen isin()-metodia,\n",
    "- muuntaa sarakkeiden Year Total €/MWh ja December €/MWh ja niiden välissä olevien sarakkeiden tietotyypiksi float,\n",
    "- kopioi DataFramesta kaikki sarakkeet ja ne rivit, joiden sarakkeessa Price area on merkkijono 'Finland',\n",
    "- laskee koko vuoden sähkön hinnan keskiarvon uuteen sarakkeeseen Average €/MWh kaikilta kuukausilta ('January €/MWh'-'December €/MWh'),\n",
    "- laskee sarakkeeseen Below average price, kuinka monena kuukautena sähkönhinta on ollut alle vuoden keskiarvon,\n",
    "- laskee sarakkeeseen Above average price, kuinka monena kuukautena sähkönhinta on ollut yli vuoden keskiarvon tai yhtä paljon kuin keskiarvohinta,\n",
    "- tulostaa vain ne kymmenen riviä (head(10)), joilla sarakkeiden 'Below average price' ja 'Above average price' summa on 12.\n",
    "\n",
    "Tässä tehtävässä url=https://student.labranet.jamk.fi/~huoptu/datananal_s20/kerta2/harjoitukset/ehi_010_2020q2.csv"
   ]
  },
  {
   "cell_type": "code",
   "execution_count": 13,
   "id": "d0628fd0-81bf-46d7-a68c-45739b3351e9",
   "metadata": {},
   "outputs": [
    {
     "name": "stdout",
     "output_type": "stream",
     "text": [
      "     Year  Below average price  Above average price\n",
      "145  1998                    6                    6\n",
      "146  1999                    6                    6\n",
      "147  2000                    6                    6\n",
      "148  2001                    7                    5\n",
      "149  2002                    9                    3\n",
      "150  2003                    6                    6\n",
      "151  2004                    7                    5\n",
      "152  2005                    7                    5\n",
      "153  2006                    5                    7\n",
      "154  2007                    5                    7\n"
     ]
    }
   ],
   "source": [
    "def suomisahko(url):\n",
    "    # Kirjoita vastauksesi tähän:\n",
    "    import pandas as pd\n",
    "    import numpy as np\n",
    "\n",
    "    df_4 = pd.read_csv(url, sep=',', decimal='.')\n",
    "\n",
    "    start_col = 'Year Total €/MWh'\n",
    "    end_col = 'December €/MWh'\n",
    "    jan_col = 'January €/MWh'\n",
    "\n",
    "    cols = df_4.loc[:, start_col:end_col].columns\n",
    "    dots = df_4[cols].isin([\".\"])\n",
    "    df_4[cols] = df_4[cols].mask(dots, np.nan)\n",
    "    \n",
    "    df_4[cols] = df_4[cols].astype(float)\n",
    "    df_fi = df_4.loc[df_4['Price area'] == 'Finland', :].copy()\n",
    "    df_fi['Average €/MWh'] = df_fi.loc[:, jan_col:end_col].mean(axis=1)\n",
    "    av = 'Average €/MWh'\n",
    "    \n",
    "    df_fi['Below average price'] = df_fi.loc[:, jan_col:end_col].lt(df_fi[av], axis=0).sum(axis=1)\n",
    "    df_fi['Above average price'] = df_fi.loc[:, jan_col:end_col].ge(df_fi[av], axis=0).sum(axis=1)\n",
    "    \n",
    "    df_selected = df_fi.loc[:, ['Year', 'Below average price', 'Above average price']]\n",
    "    tulos = df_selected[(df_fi['Below average price'] + df_selected['Above average price']) == 12].head(10)\n",
    "\n",
    "    print(tulos)\n",
    "#url='https://student.labranet.jamk.fi/~huoptu/datananal_s20/kerta2/harjoitukset/ehi_010_2020q2.csv'\n",
    "url2='https://student.labranet.jamk.fi/~huoptu/datananal_s20/kerta2/harjoitukset/data_h2_t1B.csv'\n",
    "suomisahko(url2)"
   ]
  }
 ],
 "metadata": {
  "kernelspec": {
   "display_name": "Python 3 (ipykernel)",
   "language": "python",
   "name": "python3"
  },
  "language_info": {
   "codemirror_mode": {
    "name": "ipython",
    "version": 3
   },
   "file_extension": ".py",
   "mimetype": "text/x-python",
   "name": "python",
   "nbconvert_exporter": "python",
   "pygments_lexer": "ipython3",
   "version": "3.9.13"
  }
 },
 "nbformat": 4,
 "nbformat_minor": 5
}
